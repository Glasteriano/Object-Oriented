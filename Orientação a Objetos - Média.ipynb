{
 "cells": [
  {
   "cell_type": "markdown",
   "id": "3c54fcf9",
   "metadata": {},
   "source": [
    "# Exercício"
   ]
  },
  {
   "cell_type": "markdown",
   "id": "c4f2588f",
   "metadata": {},
   "source": [
    "###### 1 - Crie uma classe chamada aluno com os seguintes atributos:\n",
    "- Nome\n",
    "- Nota 1\n",
    "- Nota 2\n",
    "- Crie um construtor para a classe (__init__)\n",
    "\n",
    "Crie as seguintes funções (métodos):\n",
    "- Calcula média, retornando a média aritmética entre as notas\n",
    "- Mostra dados, que somente imprime o valor de todos os atributos\n",
    "- Resultado, que verifica se o aluno está aprovado ou reprovado (se a média for maior ou igual a 6.0, o aluno está aprovado)\n",
    "\n",
    "Crie dois objetos (aluno1 e aluno2) e teste as funções"
   ]
  },
  {
   "cell_type": "code",
   "execution_count": 66,
   "id": "ffba984c",
   "metadata": {},
   "outputs": [],
   "source": [
    "class aluno:\n",
    "    # __init__ é o construtor da classe\n",
    "    # self tem que obrigatòriamente estar nos parâmetros\n",
    "    # O self dentro das funções me faz acessar qualquer parâmetro dentro da classe Aluno\n",
    "    def __init__(self, nome, nota1, nota2): # Criando parâmetros na classe Aluno\n",
    "        # Criando características para a classe Aluno\n",
    "        self.nome = nome\n",
    "        self.nota1 = nota1\n",
    "        self.nota2 = nota2\n",
    "    # As funções serão as ações que podem ser tomadas em relação as características que passei\n",
    "    def média(self): # Criando uma função levando em conta as características iniciais\n",
    "        return (self.nota1 + self.nota2)/ 2\n",
    "    def dados(self): # Criando uma função que apenas mostras as características passadas\n",
    "        return f'''O aluno {self.nome} obteve as seguintes notas:        \n",
    "        Primeira nota: {self.nota1}\n",
    "        Segunda nota: {self.nota2}\n",
    "        Média: {aluno.média(self)}'''\n",
    "    def resultado(self):\n",
    "        # Função que retorna uma resposta já passada antes através do referenciamento de função\n",
    "        if aluno.média(self) >= 6:\n",
    "            return 'Aprovado'\n",
    "        else:\n",
    "            return 'Reprovado'"
   ]
  },
  {
   "cell_type": "code",
   "execution_count": 67,
   "id": "a656b232",
   "metadata": {},
   "outputs": [
    {
     "name": "stdout",
     "output_type": "stream",
     "text": [
      "Insira o nome: dsf\n",
      "Insira a 1ª nota: 4\n",
      "Insira a 2ª nota: 8\n",
      "A média foi 6.0\n",
      "\n",
      "O aluno dsf obteve as seguintes notas:        \n",
      "        Primeira nota: 4.0\n",
      "        Segunda nota: 8.0\n",
      "        Média: 6.0 \n",
      "\n",
      "Aprovado\n"
     ]
    }
   ],
   "source": [
    "# Associando objetos à classe Aluno e pedindo inputs para ser utilizado nas funções\n",
    "aluno1 = aluno(input('Insira o nome: '), float(input('Insira a 1ª nota: ')),\n",
    "               float(input('Insira a 2ª nota: ')))\n",
    "# Retornando os valores obtidos nas funções\n",
    "print(aluno1.dados(),'\\n')\n",
    "print(aluno1.resultado())"
   ]
  }
 ],
 "metadata": {
  "kernelspec": {
   "display_name": "Python 3 (ipykernel)",
   "language": "python",
   "name": "python3"
  },
  "language_info": {
   "codemirror_mode": {
    "name": "ipython",
    "version": 3
   },
   "file_extension": ".py",
   "mimetype": "text/x-python",
   "name": "python",
   "nbconvert_exporter": "python",
   "pygments_lexer": "ipython3",
   "version": "3.9.12"
  }
 },
 "nbformat": 4,
 "nbformat_minor": 5
}
